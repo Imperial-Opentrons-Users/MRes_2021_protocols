{
 "cells": [
  {
   "cell_type": "markdown",
   "id": "7ee84393",
   "metadata": {},
   "source": [
    "Script (1) - Fluorescence Data Processing"
   ]
  },
  {
   "cell_type": "code",
   "execution_count": 3,
   "id": "67b86898",
   "metadata": {},
   "outputs": [
    {
     "name": "stdout",
     "output_type": "stream",
     "text": [
      "To copy the file path, select the file, use 'shift + right click', and select 'copy file path'.\n",
      "Please make sure to remove quotation marks or file will not be recognised!\n",
      "\n",
      "Please enter file path = C:\\Users\\mde13\\Documents\\Opentrons_Protocols_&_Spreadsheets\\mock fluprescence data.xlsx\n",
      "\n",
      "How many wells would you like to extract? (10 is advised) = 10\n",
      "\n",
      "Dictionary Input for Well Extraction Protocol =  {'F11': 0, 'D9': 1, 'F10': 2, 'D11': 3, 'F1': 4, 'H5': 5, 'D8': 6, 'H1': 7, 'E3': 8, 'D2': 9}\n",
      "\n",
      "Please simply copy this dictionary into the space following 'wells =' in the Well Extraction Protocol\n"
     ]
    }
   ],
   "source": [
    "print(\"To copy the file path, select the file, use 'shift + right click', and select 'copy file path'.\\nPlease make sure to remove quotation marks or file will not be recognised!\\n\")\n",
    "\n",
    "from openpyxl import load_workbook\n",
    "wb = load_workbook(filename = input(\"Please enter file path = \"))\n",
    "sheet = wb.active\n",
    "\n",
    "#code reads the specified excel file - an ouptut file from the omega, finds and collates the well references that show the highest flourescence\n",
    "columns_excel = ['B', 'C', 'D', 'E', 'F', 'G', 'H', 'I', 'J', 'K', 'L']\n",
    "rows_opentron = ['A', 'B', 'C', 'D', 'E', 'F', 'G', 'H']\n",
    "columns_opentron =[]\n",
    "\n",
    "well_coord =[]\n",
    "well_value = []\n",
    "\n",
    "for i in range(len(columns_excel)):\n",
    "    index = str(columns_excel[i])\n",
    "    for n in range(len(rows_opentron)):\n",
    "        well_value.append(sheet[str(index+str(n+15))].value)\n",
    "        well_coord.append(str(rows_opentron[n] + str(i+1)))\n",
    "    \n",
    "wells = {well_coord[i]: well_value[i] for i in range(len(well_coord))}\n",
    "\n",
    "wells_to_pop = wells.copy()\n",
    "\n",
    "highest_wells = []\n",
    "for i in range(int(input(\"\\nHow many wells would you like to extract? (10 is advised) = \"))): #user input to select how many wells\n",
    "    highest = max(wells_to_pop, key = wells.get)\n",
    "    highest_wells.append(highest)\n",
    "    wells_to_pop.pop(highest) #arranges the highest fluorescence well references in a list from highest to lowest\n",
    "\n",
    "keys = [] #creates the index keys for the dictionary\n",
    "for i in range(0, len(highest_wells)):\n",
    "    keys.append(i)\n",
    "    \n",
    "dic = dict(zip(highest_wells, keys)) #zips the well references and keys into a dictionary\n",
    "\n",
    "print(\"\\nDictionary Input for Well Extraction Protocol = \", dic )\n",
    "print(\"\\nPlease simply copy this dictionary into the space following 'wells =' in the Well Extraction Protocol\")"
   ]
  },
  {
   "cell_type": "markdown",
   "id": "e47ffc60",
   "metadata": {},
   "source": [
    "Script (2) - New Protocol Generation"
   ]
  },
  {
   "cell_type": "code",
   "execution_count": 2,
   "id": "8b1c2777",
   "metadata": {},
   "outputs": [],
   "source": [
    "New_Cycle_Protocol = \"\"\"from opentrons import protocol_api\n",
    "\n",
    "metadata = {'apiLevel': '2.7'}\n",
    "\n",
    "def run(protocol: protocol_api.ProtocolContext):\n",
    "    source = protocol.load_labware(\"corning_96_wellplate_360ul_flat\", \"1\")\n",
    "    reservoir = protocol.load_labware(\"nest_12_reservoir_15ml\", \"7\")\n",
    "    tiprack_1 = protocol.load_labware(\"opentrons_96_tiprack_300ul\", \"5\")\n",
    "    tiprack_2 = protocol.load_labware(\"opentrons_96_tiprack_300ul\", \"8\")\n",
    "    tiprack_3 = protocol.load_labware(\"opentrons_96_tiprack_300ul\", \"9\")\n",
    "    tiprack_4 = protocol.load_labware(\"opentrons_96_tiprack_20ul\", \"6\")\n",
    "    p300 = protocol.load_instrument(\"p300_multi_gen2\", \"left\", tip_racks=[tiprack_1, tiprack_2, tiprack_3])\n",
    "    p20 = protocol.load_instrument(\"p20_single_gen2\", \"right\", tip_racks=[tiprack_4])\n",
    "    temp_mod = protocol.load_module(\"temperature module\", \"4\")\n",
    "    dest = temp_mod.load_labware(\"corning_96_wellplate_360ul_flat\")\n",
    "    test = protocol.load_labware(\"corning_96_wellplate_360ul_flat\", \"3\")\n",
    "\n",
    "    wells = {'F11': 0, 'D9': 1, 'F10': 2, 'D11': 3, 'F1': 4, 'H5': 5, 'D8': 6, 'H1': 7, 'E3': 8, 'D2': 9} #<-- Paste the dictionary from the above code here!\n",
    "\n",
    "#transferring 5ul of E.coli from each of the 10 highest fluorescing wells in the original \"dest\" plate (the new source plate) to the new dest plat\n",
    "    j = 0\n",
    "    for i in wells:\n",
    "        p20.starting_tip = tiprack_4.well(\"C1\")\n",
    "        p20.pick_up_tip()\n",
    "        p20.transfer(5, source.wells_by_name()[i], dest.columns(j), new_tip = \"never\")\n",
    "        j += 1\n",
    "        p20.drop_tip()\n",
    "\n",
    "#transferring controls from the original \"dest\" plate (the new source plate) to the new \"dest\" plate\n",
    "    p20.transfer(5, source.columns_by_name()[\"11\"], dest.columns_by_name()[\"11\"], new_tip = \"always\")\n",
    "\n",
    "#adding components to encourage growth to all wells of the destination plate\n",
    "    for i in range(4):\n",
    "        p300.pick_up_tip()\n",
    "        p300.distribute(20, reservoir.wells()[i], dest.wells(), new_tip = \"never\")\n",
    "        p300.drop_tip()\n",
    "\n",
    "#adding \"broth\" to all wells and mixing - here tips are changed every time to ensure no contamination\n",
    "    for i in range(12):\n",
    "        p300.pick_up_tip()\n",
    "        p300.transfer(115, reservoir.wells(\"A5\"), dest.columns()[i], mix_after = (3,100), new_tip = \"never\")\n",
    "        p300.drop_tip()\n",
    "\n",
    "    temp_mod.set_temperature(35) #set temperature of the heating block to 35oC\n",
    "\n",
    "    protocol.delay(minutes=240) #once temperature is reached, the destination plate will incubate for 4 hours\n",
    "    temp_mod.set_temperature(24) #force cools the heating block back to room temperature before continuing\n",
    "\n",
    "#takes a 100 ul sample of each well and transfers it to the test plate to for fluorescence testing\n",
    "    for i in range(12):\n",
    "        p300.pick_up_tip()\n",
    "        p300.transfer(100, dest.columns()[i], test.columns()[i], new_tip = \"never\")\n",
    "        p300.drop_tip()\"\"\"\n",
    "\n",
    "#prints the above protocol to a new \".py\" file titled \"New_Protocol\"\n",
    "file = open(\"New_Protocol.py\",'w')\n",
    "new = file.write(New_Cycle_Protocol)\n",
    "file.close()"
   ]
  },
  {
   "cell_type": "code",
   "execution_count": null,
   "id": "33705823",
   "metadata": {},
   "outputs": [],
   "source": []
  }
 ],
 "metadata": {
  "kernelspec": {
   "display_name": "Python 3",
   "language": "python",
   "name": "python3"
  },
  "language_info": {
   "codemirror_mode": {
    "name": "ipython",
    "version": 3
   },
   "file_extension": ".py",
   "mimetype": "text/x-python",
   "name": "python",
   "nbconvert_exporter": "python",
   "pygments_lexer": "ipython3",
   "version": "3.8.8"
  }
 },
 "nbformat": 4,
 "nbformat_minor": 5
}
